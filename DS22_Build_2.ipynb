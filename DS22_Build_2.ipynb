{
  "nbformat": 4,
  "nbformat_minor": 0,
  "metadata": {
    "colab": {
      "name": "DS22 - Build 2",
      "provenance": [],
      "collapsed_sections": []
    },
    "kernelspec": {
      "name": "python3",
      "display_name": "Python 3"
    }
  },
  "cells": [
    {
      "cell_type": "code",
      "metadata": {
        "id": "jaGqbQ13PlGX"
      },
      "source": [
        "# Dataset links\n",
        "# https://data.worldbank.org/indicator/MS.MIL.XPND.GD.ZS\n",
        "# https://www.cato.org/human-freedom-index-new"
      ],
      "execution_count": 40,
      "outputs": []
    },
    {
      "cell_type": "markdown",
      "metadata": {
        "id": "ceh5QRcOyHNq"
      },
      "source": [
        "# Import Modules"
      ]
    },
    {
      "cell_type": "code",
      "metadata": {
        "id": "LPfl8i7wAxWl"
      },
      "source": [
        "import pandas as pd\n",
        "import numpy as np\n",
        "\n",
        "from sklearn.pipeline import make_pipeline\n",
        "from sklearn.impute import SimpleImputer\n",
        "from category_encoders import OneHotEncoder\n",
        "from sklearn.linear_model import LinearRegression, Ridge\n",
        "from sklearn.metrics import mean_absolute_error, mean_squared_error\n",
        "from sklearn.model_selection import cross_val_score\n",
        "from xgboost import XGBClassifier\n",
        "from sklearn.ensemble import GradientBoostingRegressor\n",
        "from sklearn.preprocessing import StandardScaler\n",
        "from sklearn.model_selection import cross_val_score\n",
        "\n",
        "!pip install category_encoders==2.*"
      ],
      "execution_count": null,
      "outputs": []
    },
    {
      "cell_type": "markdown",
      "metadata": {
        "id": "a6vNC7Y5yPoQ"
      },
      "source": [
        "# Import Files & Wrangle"
      ]
    },
    {
      "cell_type": "code",
      "metadata": {
        "id": "VeDkUQ9PyO4C"
      },
      "source": [
        "from glob import glob\n",
        "for filename in glob('*.csv'):\n",
        "    print(filename)"
      ],
      "execution_count": null,
      "outputs": []
    },
    {
      "cell_type": "code",
      "metadata": {
        "id": "c6tI4lLyA2ab"
      },
      "source": [
        "# Read in data sets\n",
        "MilitaryExpenditure = pd.read_csv('MilitaryExpenditure.csv', skiprows=4)\n",
        "HumanFreedom = pd.read_csv('HumanFreedom.csv')"
      ],
      "execution_count": 72,
      "outputs": []
    },
    {
      "cell_type": "code",
      "metadata": {
        "id": "aMTSp270OFOU"
      },
      "source": [
        "# List of countries\n",
        "ussr = ['Russia', 'Russian Federation', 'Ukraine', 'Georgia', 'Belarus', 'Uzbekistan', 'Armenia', 'Azerbaijan', \n",
        "        'Kazakhstan', 'Kyrgyz Republic', 'Moldova', 'Turkmenistan', 'Tajik', 'Tajikistan', 'Latvia', 'Lithuania',\n",
        "         'Estonia', 'Kyrgyzstan']"
      ],
      "execution_count": 73,
      "outputs": []
    },
    {
      "cell_type": "code",
      "metadata": {
        "id": "aSRhenH9IlTE"
      },
      "source": [
        "# Make list of years to drop\n",
        "years = list(range(1960, 2008)) #2nd exclusive\n",
        "years.append(2019)\n",
        "yearsStr = [str(item) for item in years]"
      ],
      "execution_count": 74,
      "outputs": []
    },
    {
      "cell_type": "code",
      "metadata": {
        "id": "AaNo2hKtKLVx"
      },
      "source": [
        "# Wrangle MilitaryExpenditure\n",
        "\n",
        "def wrangleM(df):\n",
        "\n",
        "  df = df.copy()\n",
        "\n",
        "  # Rename Columns\n",
        "  df.rename(columns={'Country Name':'country'}, inplace=True)\n",
        "\n",
        "  # Drop Columns\n",
        "  df.drop(columns=['Indicator Name', 'Indicator Code', '2020', 'Unnamed: 65', 'Country Code'], inplace=True)\n",
        "\n",
        " # Get rid of extra years \n",
        "  df.drop(columns=yearsStr, inplace=True)\n",
        " \n",
        "  # Pull out ussr countries\n",
        "  df = df[df.country.str.contains('|'.join(ussr))]\n",
        "\n",
        "  # Melt on country // NOT WORKING INSIDE OF FUNCTION? \n",
        "  df = pd.melt(df, id_vars=['country'])\n",
        "\n",
        "  # Rename new columns\n",
        "  df.rename(columns={'variable':'year',\n",
        "                     'value':'militarySpend'}, inplace=True)\n",
        "  \n",
        "  # Cast year to int\n",
        "  df['year'] = df['year'].astype(int)\n",
        "\n",
        "  # Drop countries not included in HF dataset\n",
        "  df = df[~df['country'].isin(['Turkmenistan', 'Uzbekistan'])]\n",
        "\n",
        "  # Reset index\n",
        "  df.set_index('year', inplace=True)\n",
        "\n",
        "  return df\n",
        "\n",
        "MilitaryExpenditure = wrangleM(MilitaryExpenditure)"
      ],
      "execution_count": 75,
      "outputs": []
    },
    {
      "cell_type": "code",
      "metadata": {
        "id": "TYTqobNVa2vN"
      },
      "source": [
        "def wrangleH(df):\n",
        "  df = df.copy()\n",
        "  \n",
        "  # Drop columns except\n",
        "  df.drop(df.columns.difference(['countries','hf_score', 'year']), 1, inplace=True)\n",
        "\n",
        "  # Rename columns\n",
        "  df.rename(columns={'countries':'country'}, inplace=True)\n",
        "\n",
        "  # Pull countries\n",
        "  df = df[df.country.str.contains('|'.join(ussr))]\n",
        "  \n",
        "  # Reset index\n",
        "  df.set_index('year', inplace=True)\n",
        "\n",
        "  return df\n",
        "\n",
        "HumanFreedom = wrangleH(HumanFreedom)"
      ],
      "execution_count": 76,
      "outputs": []
    },
    {
      "cell_type": "code",
      "metadata": {
        "id": "VhqJmYMqkS7m"
      },
      "source": [
        "merged = pd.merge(HumanFreedom, MilitaryExpenditure, how='inner', on=['country', 'year'])"
      ],
      "execution_count": 53,
      "outputs": []
    },
    {
      "cell_type": "code",
      "metadata": {
        "id": "xIrmuERMqWtN"
      },
      "source": [
        "merged = merged[merged['hf_score'].notna()]\n",
        "merged.reset_index(inplace=True)\n",
        "merged= merged.drop('index', axis=1)\n",
        "merged"
      ],
      "execution_count": null,
      "outputs": []
    },
    {
      "cell_type": "code",
      "metadata": {
        "id": "qQIknIesitoR"
      },
      "source": [
        "merged"
      ],
      "execution_count": null,
      "outputs": []
    },
    {
      "cell_type": "markdown",
      "metadata": {
        "id": "ADjJLYvgyeBA"
      },
      "source": [
        "# Target/Feature Split"
      ]
    },
    {
      "cell_type": "code",
      "metadata": {
        "id": "Uzuzy4lUNGPD"
      },
      "source": [
        "target = 'hf_score'\n",
        "y = merged[target]\n",
        "X = merged.drop(columns=[target, 'level_0'])"
      ],
      "execution_count": null,
      "outputs": []
    },
    {
      "cell_type": "code",
      "metadata": {
        "id": "tre9O0JWOCZR"
      },
      "source": [
        "cutoff = 2016\n",
        "mask = X.year < cutoff\n",
        "X_train, y_train = X.loc[mask], y.loc[mask]\n",
        "X_test, y_test = X.loc[~mask], y.loc[~mask]"
      ],
      "execution_count": 87,
      "outputs": []
    },
    {
      "cell_type": "markdown",
      "metadata": {
        "id": "Hv8us_pfwveD"
      },
      "source": [
        "# Establish Baseline"
      ]
    },
    {
      "cell_type": "code",
      "metadata": {
        "id": "H3_8qBXTk2I4",
        "colab": {
          "base_uri": "https://localhost:8080/"
        },
        "outputId": "53e65b7b-1102-4b6b-af8e-1513225f8736"
      },
      "source": [
        "# Establish Baseline\n",
        "y_pred = [y_train.mean()] * len(y_train)\n",
        "print('Baseline MAE:', mean_absolute_error(y_train, y_pred))"
      ],
      "execution_count": 88,
      "outputs": [
        {
          "output_type": "stream",
          "text": [
            "Baseline MAE: 0.7508420099592578\n"
          ],
          "name": "stdout"
        }
      ]
    },
    {
      "cell_type": "markdown",
      "metadata": {
        "id": "HWoeNOIhw5dY"
      },
      "source": [
        "# Linear Regression"
      ]
    },
    {
      "cell_type": "code",
      "metadata": {
        "colab": {
          "base_uri": "https://localhost:8080/"
        },
        "id": "uPreRcSvsJHR",
        "outputId": "6784aa77-8713-4e6d-daeb-8b9ab8f98f5e"
      },
      "source": [
        "linear_model = make_pipeline(\n",
        "    OneHotEncoder(),\n",
        "    SimpleImputer(),\n",
        "    LinearRegression()\n",
        ")\n",
        "\n",
        "linear_model.fit(X_train, y_train);"
      ],
      "execution_count": 99,
      "outputs": [
        {
          "output_type": "stream",
          "text": [
            "/usr/local/lib/python3.6/dist-packages/category_encoders/utils.py:21: FutureWarning: is_categorical is deprecated and will be removed in a future version.  Use is_categorical_dtype instead\n",
            "  elif pd.api.types.is_categorical(cols):\n"
          ],
          "name": "stderr"
        }
      ]
    },
    {
      "cell_type": "code",
      "metadata": {
        "colab": {
          "base_uri": "https://localhost:8080/"
        },
        "id": "84o5yskYxddN",
        "outputId": "e963a28b-4eda-498f-dac5-3ce6010eb6ca"
      },
      "source": [
        "print('Linear Regression training accuracy:', linear_model.score(X_train, y_train))\n",
        "print('Linear Regression validation accuracy:', linear_model.score(X_test, y_test))"
      ],
      "execution_count": 100,
      "outputs": [
        {
          "output_type": "stream",
          "text": [
            "Linear Regression training accuracy: 0.979222398085841\n",
            "Linear Regression validation accuracy: 0.8896669213818822\n"
          ],
          "name": "stdout"
        }
      ]
    },
    {
      "cell_type": "code",
      "metadata": {
        "colab": {
          "base_uri": "https://localhost:8080/"
        },
        "id": "mv8SHmLN82lO",
        "outputId": "62e2c6c0-17c6-46dc-fe3c-455b84edd7d6"
      },
      "source": [
        "cv_scores = cross_val_score(linear_model, X, y, cv=5, scoring='r2', n_jobs=-1)\n",
        "cv_scores.mean()"
      ],
      "execution_count": 101,
      "outputs": [
        {
          "output_type": "execute_result",
          "data": {
            "text/plain": [
              "-0.9003577996313291"
            ]
          },
          "metadata": {
            "tags": []
          },
          "execution_count": 101
        }
      ]
    },
    {
      "cell_type": "code",
      "metadata": {
        "colab": {
          "base_uri": "https://localhost:8080/"
        },
        "id": "Nry2IBG-_Sm7",
        "outputId": "46246278-1d9a-4dc7-d733-07c48e029b63"
      },
      "source": [
        "X_test.loc[0]"
      ],
      "execution_count": 102,
      "outputs": [
        {
          "output_type": "execute_result",
          "data": {
            "text/plain": [
              "year                2018\n",
              "country          Armenia\n",
              "militarySpend    4.89704\n",
              "Name: 0, dtype: object"
            ]
          },
          "metadata": {
            "tags": []
          },
          "execution_count": 102
        }
      ]
    },
    {
      "cell_type": "code",
      "metadata": {
        "colab": {
          "base_uri": "https://localhost:8080/"
        },
        "id": "-t7kseRz_Mwi",
        "outputId": "86ae7710-ac73-438b-f818-12fb5b1be274"
      },
      "source": [
        "linear_model.predict([{'year': 2019, 'country': \"Armenia\", 'militarySpend': 5.0}])"
      ],
      "execution_count": 103,
      "outputs": [
        {
          "output_type": "execute_result",
          "data": {
            "text/plain": [
              "array([7.37044974])"
            ]
          },
          "metadata": {
            "tags": []
          },
          "execution_count": 103
        }
      ]
    },
    {
      "cell_type": "markdown",
      "metadata": {
        "id": "3QJy-LdvxYPy"
      },
      "source": [
        "# Ridge Regression"
      ]
    },
    {
      "cell_type": "code",
      "metadata": {
        "colab": {
          "base_uri": "https://localhost:8080/"
        },
        "id": "U8LFEZMW4Y0k",
        "outputId": "9e954a35-5845-4241-df72-7725f1d9c3c8"
      },
      "source": [
        "linear_model_ridge = make_pipeline(\n",
        "    OneHotEncoder(),\n",
        "    SimpleImputer(),\n",
        "    Ridge()\n",
        ")\n",
        "linear_model_ridge.fit(X_train, y_train);"
      ],
      "execution_count": 105,
      "outputs": [
        {
          "output_type": "stream",
          "text": [
            "/usr/local/lib/python3.6/dist-packages/category_encoders/utils.py:21: FutureWarning: is_categorical is deprecated and will be removed in a future version.  Use is_categorical_dtype instead\n",
            "  elif pd.api.types.is_categorical(cols):\n"
          ],
          "name": "stderr"
        }
      ]
    },
    {
      "cell_type": "code",
      "metadata": {
        "colab": {
          "base_uri": "https://localhost:8080/"
        },
        "id": "53EdxqlC41TH",
        "outputId": "2d9e514e-5260-4b6f-8bcc-2725d5c48aba"
      },
      "source": [
        "print('Ridge training R^2:', linear_model_ridge.score(X_train, y_train))\n",
        "print('Ridge test R^2:', linear_model_ridge.score(X_test, y_test))"
      ],
      "execution_count": 106,
      "outputs": [
        {
          "output_type": "stream",
          "text": [
            "Ridge training R^2: 0.9667361500912945\n",
            "Ridge test R^2: 0.8691622065601075\n"
          ],
          "name": "stdout"
        }
      ]
    },
    {
      "cell_type": "code",
      "metadata": {
        "colab": {
          "base_uri": "https://localhost:8080/"
        },
        "id": "e8wBkQa2zcyL",
        "outputId": "ea728b46-8117-4282-fd15-ffb78e243868"
      },
      "source": [
        "cv_scores = cross_val_score(linear_model_ridge, X, y, cv=5, scoring='r2', n_jobs=-1)\n",
        "cv_scores.mean()"
      ],
      "execution_count": 107,
      "outputs": [
        {
          "output_type": "execute_result",
          "data": {
            "text/plain": [
              "-0.9637054545244238"
            ]
          },
          "metadata": {
            "tags": []
          },
          "execution_count": 107
        }
      ]
    },
    {
      "cell_type": "code",
      "metadata": {
        "colab": {
          "base_uri": "https://localhost:8080/"
        },
        "id": "KtHfTKj3zjqt",
        "outputId": "e0ec4645-ba53-4466-d65e-74ef3c6184ba"
      },
      "source": [
        "linear_model_ridge.predict([{'year': 2019, 'country': \"Armenia\", 'militarySpend': 5.0}])"
      ],
      "execution_count": 108,
      "outputs": [
        {
          "output_type": "execute_result",
          "data": {
            "text/plain": [
              "array([7.29807482])"
            ]
          },
          "metadata": {
            "tags": []
          },
          "execution_count": 108
        }
      ]
    },
    {
      "cell_type": "markdown",
      "metadata": {
        "id": "6qVR_QvXxmEH"
      },
      "source": [
        "# Gradient Boost"
      ]
    },
    {
      "cell_type": "code",
      "metadata": {
        "id": "t_YkoO1GvHNX"
      },
      "source": [
        "model_skgb = make_pipeline(\n",
        "    OneHotEncoder(),\n",
        "    SimpleImputer(),\n",
        "    StandardScaler(),\n",
        "    GradientBoostingRegressor(random_state=42)\n",
        ")\n",
        "\n",
        "model_skgb.fit(X_train, y_train);"
      ],
      "execution_count": null,
      "outputs": []
    },
    {
      "cell_type": "code",
      "metadata": {
        "colab": {
          "base_uri": "https://localhost:8080/"
        },
        "id": "7ft7uklq65mL",
        "outputId": "f115ecc0-3bc7-4840-9490-ea0f95412a7f"
      },
      "source": [
        "print('sklearn Training Accuracy:', model_skgb.score(X_train, y_train))\n",
        "print('sklearn Validation Accuracy:', model_skgb.score(X_test, y_test))"
      ],
      "execution_count": 148,
      "outputs": [
        {
          "output_type": "stream",
          "text": [
            "sklearn Training Accuracy: 0.9975109851045731\n",
            "sklearn Validation Accuracy: 0.946247267703106\n"
          ],
          "name": "stdout"
        }
      ]
    },
    {
      "cell_type": "code",
      "metadata": {
        "colab": {
          "base_uri": "https://localhost:8080/"
        },
        "id": "HNLZU4UN7ODG",
        "outputId": "4cc5c3ed-3a03-4494-91fb-4bc9a2dae26a"
      },
      "source": [
        "cv_scores = cross_val_score(model_skgb, X, y, cv=5, scoring='r2', n_jobs=-1)\n",
        "cv_scores.mean()"
      ],
      "execution_count": 160,
      "outputs": [
        {
          "output_type": "execute_result",
          "data": {
            "text/plain": [
              "-1.0343901803348083"
            ]
          },
          "metadata": {
            "tags": []
          },
          "execution_count": 160
        }
      ]
    },
    {
      "cell_type": "markdown",
      "metadata": {
        "id": "smQ_gxqY0B8C"
      },
      "source": [
        "# Hyperparameter Tuning w GridSearchCV"
      ]
    },
    {
      "cell_type": "code",
      "metadata": {
        "id": "Ng5H4ZP17wE6"
      },
      "source": [
        "# hyperparameter tuning w gridsearchCV\n",
        "\n",
        "from sklearn.model_selection import GridSearchCV, RandomizedSearchCV\n",
        "params = {'ridge__alpha': [1e-15, 1e-10, 1e-8, 1e-4, 1e-3,1e-2, 1, 5, 10, 20]}\n",
        "\n",
        "\n",
        "gs_rf = GridSearchCV(\n",
        "    linear_model_ridge,\n",
        "    param_grid=params,\n",
        "    cv=5,\n",
        "    n_jobs=-1,\n",
        "    verbose=1\n",
        ")\n",
        "\n",
        "gs_rf.fit(X_train, y_train)\n"
      ],
      "execution_count": null,
      "outputs": []
    },
    {
      "cell_type": "code",
      "metadata": {
        "colab": {
          "base_uri": "https://localhost:8080/"
        },
        "id": "REpO7NP0z365",
        "outputId": "f1efe1b2-abfb-4157-de36-00aa50a2e47b"
      },
      "source": [
        "print('sklearn Training Accuracy:', gs_rf.score(X_train, y_train))\n",
        "print('sklearn Validation Accuracy:', gs_rf.score(X_test, y_test))"
      ],
      "execution_count": 110,
      "outputs": [
        {
          "output_type": "stream",
          "text": [
            "sklearn Training Accuracy: 0.9792207986143918\n",
            "sklearn Validation Accuracy: 0.8895538128886874\n"
          ],
          "name": "stdout"
        }
      ]
    }
  ]
}