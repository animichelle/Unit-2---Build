{
  "nbformat": 4,
  "nbformat_minor": 0,
  "metadata": {
    "colab": {
      "name": "DS22 - Build 2",
      "provenance": [],
      "collapsed_sections": []
    },
    "kernelspec": {
      "name": "python3",
      "display_name": "Python 3"
    }
  },
  "cells": [
    {
      "cell_type": "code",
      "metadata": {
        "id": "jaGqbQ13PlGX"
      },
      "source": [
        "# Dataset links\n",
        "# https://data.worldbank.org/indicator/MS.MIL.XPND.GD.ZS\n",
        "# https://www.cato.org/human-freedom-index-new"
      ],
      "execution_count": 33,
      "outputs": []
    },
    {
      "cell_type": "markdown",
      "metadata": {
        "id": "ceh5QRcOyHNq"
      },
      "source": [
        "# Import Modules"
      ]
    },
    {
      "cell_type": "code",
      "metadata": {
        "id": "LPfl8i7wAxWl",
        "colab": {
          "base_uri": "https://localhost:8080/"
        },
        "outputId": "5721c59d-abfa-46df-c2f3-e238db0f321f"
      },
      "source": [
        "!pip install category_encoders==2.*\n",
        "\n",
        "import pandas as pd\n",
        "import numpy as np\n",
        "\n",
        "from sklearn.pipeline import make_pipeline\n",
        "from sklearn.impute import SimpleImputer\n",
        "from sklearn.ensemble import GradientBoostingRegressor\n",
        "from sklearn.preprocessing import StandardScaler\n",
        "from sklearn.model_selection import cross_val_score\n",
        "from sklearn.linear_model import LinearRegression, Ridge\n",
        "from sklearn.metrics import mean_absolute_error, mean_squared_error\n",
        "from sklearn.model_selection import cross_val_score\n",
        "from xgboost import XGBClassifier\n",
        "from category_encoders import OneHotEncoder"
      ],
      "execution_count": 34,
      "outputs": [
        {
          "output_type": "stream",
          "text": [
            "Requirement already satisfied: category_encoders==2.* in /usr/local/lib/python3.6/dist-packages (2.2.2)\n",
            "Requirement already satisfied: patsy>=0.5.1 in /usr/local/lib/python3.6/dist-packages (from category_encoders==2.*) (0.5.1)\n",
            "Requirement already satisfied: statsmodels>=0.9.0 in /usr/local/lib/python3.6/dist-packages (from category_encoders==2.*) (0.10.2)\n",
            "Requirement already satisfied: scikit-learn>=0.20.0 in /usr/local/lib/python3.6/dist-packages (from category_encoders==2.*) (0.22.2.post1)\n",
            "Requirement already satisfied: scipy>=1.0.0 in /usr/local/lib/python3.6/dist-packages (from category_encoders==2.*) (1.4.1)\n",
            "Requirement already satisfied: numpy>=1.14.0 in /usr/local/lib/python3.6/dist-packages (from category_encoders==2.*) (1.19.4)\n",
            "Requirement already satisfied: pandas>=0.21.1 in /usr/local/lib/python3.6/dist-packages (from category_encoders==2.*) (1.1.5)\n",
            "Requirement already satisfied: six in /usr/local/lib/python3.6/dist-packages (from patsy>=0.5.1->category_encoders==2.*) (1.15.0)\n",
            "Requirement already satisfied: joblib>=0.11 in /usr/local/lib/python3.6/dist-packages (from scikit-learn>=0.20.0->category_encoders==2.*) (1.0.0)\n",
            "Requirement already satisfied: python-dateutil>=2.7.3 in /usr/local/lib/python3.6/dist-packages (from pandas>=0.21.1->category_encoders==2.*) (2.8.1)\n",
            "Requirement already satisfied: pytz>=2017.2 in /usr/local/lib/python3.6/dist-packages (from pandas>=0.21.1->category_encoders==2.*) (2018.9)\n"
          ],
          "name": "stdout"
        }
      ]
    },
    {
      "cell_type": "markdown",
      "metadata": {
        "id": "a6vNC7Y5yPoQ"
      },
      "source": [
        "# Import Files & Wrangle"
      ]
    },
    {
      "cell_type": "code",
      "metadata": {
        "colab": {
          "base_uri": "https://localhost:8080/"
        },
        "id": "VeDkUQ9PyO4C",
        "outputId": "3e0dea71-4a69-4a6b-c32b-77b9b693c7f6"
      },
      "source": [
        "from glob import glob\n",
        "for filename in glob('*.csv'):\n",
        "    print(filename)"
      ],
      "execution_count": 35,
      "outputs": [
        {
          "output_type": "stream",
          "text": [
            "MilitaryExpenditure.csv\n",
            "HumanFreedom.csv\n"
          ],
          "name": "stdout"
        }
      ]
    },
    {
      "cell_type": "code",
      "metadata": {
        "id": "c6tI4lLyA2ab"
      },
      "source": [
        "# Read in data sets\n",
        "MilitaryExpenditure = pd.read_csv('MilitaryExpenditure.csv', skiprows=4)\n",
        "HumanFreedom = pd.read_csv('HumanFreedom.csv')"
      ],
      "execution_count": 36,
      "outputs": []
    },
    {
      "cell_type": "code",
      "metadata": {
        "id": "aMTSp270OFOU"
      },
      "source": [
        "# List of countries\n",
        "ussr = ['Russia', 'Russian Federation', 'Ukraine', 'Georgia', 'Belarus', 'Uzbekistan', 'Armenia', 'Azerbaijan', \n",
        "        'Kazakhstan', 'Kyrgyz Republic', 'Moldova', 'Turkmenistan', 'Tajik', 'Tajikistan', 'Latvia', 'Lithuania',\n",
        "         'Estonia', 'Kyrgyzstan']"
      ],
      "execution_count": 37,
      "outputs": []
    },
    {
      "cell_type": "code",
      "metadata": {
        "id": "aSRhenH9IlTE"
      },
      "source": [
        "# Make list of years to drop\n",
        "years = list(range(1960, 2008)) #2nd exclusive\n",
        "years.append(2019)\n",
        "yearsStr = [str(item) for item in years]"
      ],
      "execution_count": 38,
      "outputs": []
    },
    {
      "cell_type": "code",
      "metadata": {
        "id": "AaNo2hKtKLVx"
      },
      "source": [
        "# Wrangle MilitaryExpenditure\n",
        "\n",
        "def wrangleM(df):\n",
        "\n",
        "  df = df.copy()\n",
        "\n",
        "  # Rename Columns\n",
        "  df.rename(columns={'Country Name':'country'}, inplace=True)\n",
        "\n",
        "  # Drop Columns\n",
        "  df.drop(columns=['Indicator Name', 'Indicator Code', '2020', 'Unnamed: 65', 'Country Code'], inplace=True)\n",
        "\n",
        " # Get rid of extra years \n",
        "  df.drop(columns=yearsStr, inplace=True)\n",
        " \n",
        "  # Pull out ussr countries\n",
        "  df = df[df.country.str.contains('|'.join(ussr))]\n",
        "\n",
        "  # Melt on country // NOT WORKING INSIDE OF FUNCTION? \n",
        "  df = pd.melt(df, id_vars=['country'])\n",
        "\n",
        "  # Rename new columns\n",
        "  df.rename(columns={'variable':'year',\n",
        "                     'value':'militarySpend'}, inplace=True)\n",
        "  \n",
        "  # Cast year to int\n",
        "  df['year'] = df['year'].astype(int)\n",
        "\n",
        "  # Drop countries not included in HF dataset\n",
        "  df = df[~df['country'].isin(['Turkmenistan', 'Uzbekistan'])]\n",
        "\n",
        "  # Reset index\n",
        "  df.set_index('year', inplace=True)\n",
        "\n",
        "  return df\n",
        "\n",
        "MilitaryExpenditure = wrangleM(MilitaryExpenditure)"
      ],
      "execution_count": 39,
      "outputs": []
    },
    {
      "cell_type": "code",
      "metadata": {
        "id": "TYTqobNVa2vN"
      },
      "source": [
        "def wrangleH(df):\n",
        "  df = df.copy()\n",
        "  \n",
        "  # Drop columns except\n",
        "  df.drop(df.columns.difference(['countries','hf_score', 'year']), 1, inplace=True)\n",
        "\n",
        "  # Rename columns\n",
        "  df.rename(columns={'countries':'country'}, inplace=True)\n",
        "\n",
        "  # Pull countries\n",
        "  df = df[df.country.str.contains('|'.join(ussr))]\n",
        "  \n",
        "  # Reset index\n",
        "  df.set_index('year', inplace=True)\n",
        "\n",
        "  return df\n",
        "\n",
        "HumanFreedom = wrangleH(HumanFreedom)"
      ],
      "execution_count": 40,
      "outputs": []
    },
    {
      "cell_type": "code",
      "metadata": {
        "id": "VhqJmYMqkS7m"
      },
      "source": [
        "merged = pd.merge(HumanFreedom, MilitaryExpenditure, how='inner', on=['country', 'year'])"
      ],
      "execution_count": 41,
      "outputs": []
    },
    {
      "cell_type": "code",
      "metadata": {
        "id": "1rLW2MYsdDaQ"
      },
      "source": [
        "merged = merged[merged['hf_score'].notna()]\n",
        "merged"
      ],
      "execution_count": null,
      "outputs": []
    },
    {
      "cell_type": "code",
      "metadata": {
        "id": "FY1NuV3ZdHj3"
      },
      "source": [
        "merged.reset_index(inplace=True)\n",
        "merged"
      ],
      "execution_count": null,
      "outputs": []
    },
    {
      "cell_type": "code",
      "metadata": {
        "id": "xIrmuERMqWtN"
      },
      "source": [
        "merged= merged.drop('index', axis=1)\n",
        "merged"
      ],
      "execution_count": null,
      "outputs": []
    },
    {
      "cell_type": "code",
      "metadata": {
        "colab": {
          "base_uri": "https://localhost:8080/",
          "height": 419
        },
        "id": "XYtRUYe_duzE",
        "outputId": "6a548b4a-2b30-4e84-b98c-826c9a074e88"
      },
      "source": [
        "merged.head(80)"
      ],
      "execution_count": 60,
      "outputs": [
        {
          "output_type": "execute_result",
          "data": {
            "text/html": [
              "<div>\n",
              "<style scoped>\n",
              "    .dataframe tbody tr th:only-of-type {\n",
              "        vertical-align: middle;\n",
              "    }\n",
              "\n",
              "    .dataframe tbody tr th {\n",
              "        vertical-align: top;\n",
              "    }\n",
              "\n",
              "    .dataframe thead th {\n",
              "        text-align: right;\n",
              "    }\n",
              "</style>\n",
              "<table border=\"1\" class=\"dataframe\">\n",
              "  <thead>\n",
              "    <tr style=\"text-align: right;\">\n",
              "      <th></th>\n",
              "      <th>year</th>\n",
              "      <th>country</th>\n",
              "      <th>hf_score</th>\n",
              "      <th>militarySpend</th>\n",
              "    </tr>\n",
              "  </thead>\n",
              "  <tbody>\n",
              "    <tr>\n",
              "      <th>0</th>\n",
              "      <td>2018</td>\n",
              "      <td>Armenia</td>\n",
              "      <td>7.69</td>\n",
              "      <td>4.897038</td>\n",
              "    </tr>\n",
              "    <tr>\n",
              "      <th>1</th>\n",
              "      <td>2017</td>\n",
              "      <td>Armenia</td>\n",
              "      <td>7.60</td>\n",
              "      <td>3.849731</td>\n",
              "    </tr>\n",
              "    <tr>\n",
              "      <th>2</th>\n",
              "      <td>2016</td>\n",
              "      <td>Armenia</td>\n",
              "      <td>7.56</td>\n",
              "      <td>4.090349</td>\n",
              "    </tr>\n",
              "    <tr>\n",
              "      <th>3</th>\n",
              "      <td>2015</td>\n",
              "      <td>Armenia</td>\n",
              "      <td>7.48</td>\n",
              "      <td>4.239226</td>\n",
              "    </tr>\n",
              "    <tr>\n",
              "      <th>4</th>\n",
              "      <td>2014</td>\n",
              "      <td>Armenia</td>\n",
              "      <td>7.54</td>\n",
              "      <td>3.943378</td>\n",
              "    </tr>\n",
              "    <tr>\n",
              "      <th>...</th>\n",
              "      <td>...</td>\n",
              "      <td>...</td>\n",
              "      <td>...</td>\n",
              "      <td>...</td>\n",
              "    </tr>\n",
              "    <tr>\n",
              "      <th>75</th>\n",
              "      <td>2012</td>\n",
              "      <td>Latvia</td>\n",
              "      <td>8.29</td>\n",
              "      <td>0.909273</td>\n",
              "    </tr>\n",
              "    <tr>\n",
              "      <th>76</th>\n",
              "      <td>2011</td>\n",
              "      <td>Latvia</td>\n",
              "      <td>8.26</td>\n",
              "      <td>1.042715</td>\n",
              "    </tr>\n",
              "    <tr>\n",
              "      <th>77</th>\n",
              "      <td>2010</td>\n",
              "      <td>Latvia</td>\n",
              "      <td>8.22</td>\n",
              "      <td>1.092660</td>\n",
              "    </tr>\n",
              "    <tr>\n",
              "      <th>78</th>\n",
              "      <td>2009</td>\n",
              "      <td>Latvia</td>\n",
              "      <td>8.15</td>\n",
              "      <td>1.390055</td>\n",
              "    </tr>\n",
              "    <tr>\n",
              "      <th>79</th>\n",
              "      <td>2008</td>\n",
              "      <td>Latvia</td>\n",
              "      <td>8.27</td>\n",
              "      <td>1.634414</td>\n",
              "    </tr>\n",
              "  </tbody>\n",
              "</table>\n",
              "<p>80 rows × 4 columns</p>\n",
              "</div>"
            ],
            "text/plain": [
              "    year  country  hf_score  militarySpend\n",
              "0   2018  Armenia      7.69       4.897038\n",
              "1   2017  Armenia      7.60       3.849731\n",
              "2   2016  Armenia      7.56       4.090349\n",
              "3   2015  Armenia      7.48       4.239226\n",
              "4   2014  Armenia      7.54       3.943378\n",
              "..   ...      ...       ...            ...\n",
              "75  2012   Latvia      8.29       0.909273\n",
              "76  2011   Latvia      8.26       1.042715\n",
              "77  2010   Latvia      8.22       1.092660\n",
              "78  2009   Latvia      8.15       1.390055\n",
              "79  2008   Latvia      8.27       1.634414\n",
              "\n",
              "[80 rows x 4 columns]"
            ]
          },
          "metadata": {
            "tags": []
          },
          "execution_count": 60
        }
      ]
    },
    {
      "cell_type": "markdown",
      "metadata": {
        "id": "ADjJLYvgyeBA"
      },
      "source": [
        "# Target/Feature Split"
      ]
    },
    {
      "cell_type": "code",
      "metadata": {
        "id": "Uzuzy4lUNGPD"
      },
      "source": [
        "target = 'hf_score'\n",
        "y = merged[target]\n",
        "X = merged.drop(columns=[target])"
      ],
      "execution_count": 61,
      "outputs": []
    },
    {
      "cell_type": "code",
      "metadata": {
        "id": "tre9O0JWOCZR"
      },
      "source": [
        "cutoff = 2016\n",
        "mask = X.year < cutoff\n",
        "X_train, y_train = X.loc[mask], y.loc[mask]\n",
        "X_test, y_test = X.loc[~mask], y.loc[~mask]"
      ],
      "execution_count": 62,
      "outputs": []
    },
    {
      "cell_type": "markdown",
      "metadata": {
        "id": "Hv8us_pfwveD"
      },
      "source": [
        "# Establish Baseline"
      ]
    },
    {
      "cell_type": "code",
      "metadata": {
        "id": "H3_8qBXTk2I4",
        "colab": {
          "base_uri": "https://localhost:8080/"
        },
        "outputId": "2323795e-205a-4636-e3ad-71e100af8b19"
      },
      "source": [
        "# Establish Baseline\n",
        "y_pred = [y_train.mean()] * len(y_train)\n",
        "print('Baseline MAE:', mean_absolute_error(y_train, y_pred))"
      ],
      "execution_count": 63,
      "outputs": [
        {
          "output_type": "stream",
          "text": [
            "Baseline MAE: 0.7508420099592578\n"
          ],
          "name": "stdout"
        }
      ]
    },
    {
      "cell_type": "markdown",
      "metadata": {
        "id": "HWoeNOIhw5dY"
      },
      "source": [
        "# Linear Regression"
      ]
    },
    {
      "cell_type": "code",
      "metadata": {
        "id": "uPreRcSvsJHR"
      },
      "source": [
        "linear_model = make_pipeline(\n",
        "    OneHotEncoder(),\n",
        "    SimpleImputer(),\n",
        "    LinearRegression()\n",
        ")\n",
        "\n",
        "linear_model.fit(X_train, y_train);"
      ],
      "execution_count": null,
      "outputs": []
    },
    {
      "cell_type": "code",
      "metadata": {
        "colab": {
          "base_uri": "https://localhost:8080/"
        },
        "id": "84o5yskYxddN",
        "outputId": "e963a28b-4eda-498f-dac5-3ce6010eb6ca"
      },
      "source": [
        "print('Linear Regression training accuracy:', linear_model.score(X_train, y_train))\n",
        "print('Linear Regression validation accuracy:', linear_model.score(X_test, y_test))"
      ],
      "execution_count": 100,
      "outputs": [
        {
          "output_type": "stream",
          "text": [
            "Linear Regression training accuracy: 0.979222398085841\n",
            "Linear Regression validation accuracy: 0.8896669213818822\n"
          ],
          "name": "stdout"
        }
      ]
    },
    {
      "cell_type": "code",
      "metadata": {
        "colab": {
          "base_uri": "https://localhost:8080/"
        },
        "id": "mv8SHmLN82lO",
        "outputId": "62e2c6c0-17c6-46dc-fe3c-455b84edd7d6"
      },
      "source": [
        "cv_scores = cross_val_score(linear_model, X, y, cv=5, scoring='r2', n_jobs=-1)\n",
        "cv_scores.mean()"
      ],
      "execution_count": 101,
      "outputs": [
        {
          "output_type": "execute_result",
          "data": {
            "text/plain": [
              "-0.9003577996313291"
            ]
          },
          "metadata": {
            "tags": []
          },
          "execution_count": 101
        }
      ]
    },
    {
      "cell_type": "code",
      "metadata": {
        "colab": {
          "base_uri": "https://localhost:8080/"
        },
        "id": "Nry2IBG-_Sm7",
        "outputId": "46246278-1d9a-4dc7-d733-07c48e029b63"
      },
      "source": [
        "X_test.loc[0]"
      ],
      "execution_count": 102,
      "outputs": [
        {
          "output_type": "execute_result",
          "data": {
            "text/plain": [
              "year                2018\n",
              "country          Armenia\n",
              "militarySpend    4.89704\n",
              "Name: 0, dtype: object"
            ]
          },
          "metadata": {
            "tags": []
          },
          "execution_count": 102
        }
      ]
    },
    {
      "cell_type": "code",
      "metadata": {
        "colab": {
          "base_uri": "https://localhost:8080/"
        },
        "id": "-t7kseRz_Mwi",
        "outputId": "86ae7710-ac73-438b-f818-12fb5b1be274"
      },
      "source": [
        "linear_model.predict([{'year': 2019, 'country': \"Armenia\", 'militarySpend': 5.0}])"
      ],
      "execution_count": 103,
      "outputs": [
        {
          "output_type": "execute_result",
          "data": {
            "text/plain": [
              "array([7.37044974])"
            ]
          },
          "metadata": {
            "tags": []
          },
          "execution_count": 103
        }
      ]
    },
    {
      "cell_type": "markdown",
      "metadata": {
        "id": "3QJy-LdvxYPy"
      },
      "source": [
        "# Ridge Regression"
      ]
    },
    {
      "cell_type": "code",
      "metadata": {
        "colab": {
          "base_uri": "https://localhost:8080/"
        },
        "id": "U8LFEZMW4Y0k",
        "outputId": "6315f7be-d7b4-4c7d-c7af-3a4b6b4b9acf"
      },
      "source": [
        "ridge_model = make_pipeline(\n",
        "    OneHotEncoder(),\n",
        "    SimpleImputer(),\n",
        "    Ridge()\n",
        ")\n",
        "\n",
        "\n",
        "ridge_model.fit(X_train, y_train);"
      ],
      "execution_count": 111,
      "outputs": [
        {
          "output_type": "stream",
          "text": [
            "/usr/local/lib/python3.6/dist-packages/category_encoders/utils.py:21: FutureWarning: is_categorical is deprecated and will be removed in a future version.  Use is_categorical_dtype instead\n",
            "  elif pd.api.types.is_categorical(cols):\n"
          ],
          "name": "stderr"
        }
      ]
    },
    {
      "cell_type": "code",
      "metadata": {
        "colab": {
          "base_uri": "https://localhost:8080/"
        },
        "id": "53EdxqlC41TH",
        "outputId": "7a5faaa7-7aab-4372-8f5b-cd47238bf9ee"
      },
      "source": [
        "print('Ridge training R^2:', ridge_model.score(X_train, y_train))\n",
        "print('Ridge test R^2:', ridge_model.score(X_test, y_test))"
      ],
      "execution_count": 112,
      "outputs": [
        {
          "output_type": "stream",
          "text": [
            "Ridge training R^2: 0.9667361500912945\n",
            "Ridge test R^2: 0.8691622065601075\n"
          ],
          "name": "stdout"
        }
      ]
    },
    {
      "cell_type": "code",
      "metadata": {
        "colab": {
          "base_uri": "https://localhost:8080/"
        },
        "id": "e8wBkQa2zcyL",
        "outputId": "fab8731d-376e-4284-fee2-67e27dc57ea9"
      },
      "source": [
        "cv_scores = cross_val_score(ridge_model, X, y, cv=5, scoring='r2', n_jobs=-1)\n",
        "cv_scores.mean()"
      ],
      "execution_count": 113,
      "outputs": [
        {
          "output_type": "execute_result",
          "data": {
            "text/plain": [
              "-0.9637054545244238"
            ]
          },
          "metadata": {
            "tags": []
          },
          "execution_count": 113
        }
      ]
    },
    {
      "cell_type": "code",
      "metadata": {
        "colab": {
          "base_uri": "https://localhost:8080/"
        },
        "id": "KtHfTKj3zjqt",
        "outputId": "bce1c881-5430-4e07-a875-6a7e0eeae098"
      },
      "source": [
        "ridge_model.predict([{'year': 2019, 'country': \"Armenia\", 'militarySpend': 5.0}])"
      ],
      "execution_count": 114,
      "outputs": [
        {
          "output_type": "execute_result",
          "data": {
            "text/plain": [
              "array([7.29807482])"
            ]
          },
          "metadata": {
            "tags": []
          },
          "execution_count": 114
        }
      ]
    },
    {
      "cell_type": "markdown",
      "metadata": {
        "id": "6qVR_QvXxmEH"
      },
      "source": [
        "# Gradient Boost"
      ]
    },
    {
      "cell_type": "code",
      "metadata": {
        "colab": {
          "base_uri": "https://localhost:8080/"
        },
        "id": "t_YkoO1GvHNX",
        "outputId": "cf7c01a7-7798-43d1-9726-94181454c044"
      },
      "source": [
        "gb_model = make_pipeline(\n",
        "    OneHotEncoder(),\n",
        "    SimpleImputer(),\n",
        "    StandardScaler(),\n",
        "    GradientBoostingRegressor(random_state=42)\n",
        ")\n",
        "\n",
        "gb_model.fit(X_train, y_train);"
      ],
      "execution_count": 115,
      "outputs": [
        {
          "output_type": "stream",
          "text": [
            "/usr/local/lib/python3.6/dist-packages/category_encoders/utils.py:21: FutureWarning: is_categorical is deprecated and will be removed in a future version.  Use is_categorical_dtype instead\n",
            "  elif pd.api.types.is_categorical(cols):\n"
          ],
          "name": "stderr"
        }
      ]
    },
    {
      "cell_type": "code",
      "metadata": {
        "colab": {
          "base_uri": "https://localhost:8080/"
        },
        "id": "7ft7uklq65mL",
        "outputId": "9b6fbf3b-88ff-4758-faa2-a241601c3c7e"
      },
      "source": [
        "print('sklearn Training Accuracy:', gb_model.score(X_train, y_train))\n",
        "print('sklearn Validation Accuracy:', gb_model.score(X_test, y_test))"
      ],
      "execution_count": 116,
      "outputs": [
        {
          "output_type": "stream",
          "text": [
            "sklearn Training Accuracy: 0.9975109851045731\n",
            "sklearn Validation Accuracy: 0.946247267703106\n"
          ],
          "name": "stdout"
        }
      ]
    },
    {
      "cell_type": "code",
      "metadata": {
        "colab": {
          "base_uri": "https://localhost:8080/"
        },
        "id": "HNLZU4UN7ODG",
        "outputId": "1e42ba9d-5150-4a7c-cbd9-41f77c9ba3a7"
      },
      "source": [
        "cv_scores = cross_val_score(gb_model, X, y, cv=5, scoring='r2', n_jobs=-1)\n",
        "cv_scores.mean()"
      ],
      "execution_count": 117,
      "outputs": [
        {
          "output_type": "execute_result",
          "data": {
            "text/plain": [
              "-1.0343901803348083"
            ]
          },
          "metadata": {
            "tags": []
          },
          "execution_count": 117
        }
      ]
    },
    {
      "cell_type": "markdown",
      "metadata": {
        "id": "smQ_gxqY0B8C"
      },
      "source": [
        "# Hyperparameter Tuning w GridSearchCV"
      ]
    },
    {
      "cell_type": "code",
      "metadata": {
        "id": "Ng5H4ZP17wE6"
      },
      "source": [
        "# hyperparameter tuning w gridsearchCV\n",
        "\n",
        "from sklearn.model_selection import GridSearchCV, RandomizedSearchCV\n",
        "params = {'ridge__alpha': [1e-15, 1e-10, 1e-8, 1e-4, 1e-3,1e-2, 1, 5, 10, 20]}\n",
        "\n",
        "\n",
        "gs_rf = GridSearchCV(\n",
        "    linear_model_ridge,\n",
        "    param_grid=params,\n",
        "    cv=5,\n",
        "    n_jobs=-1,\n",
        "    verbose=1\n",
        ")\n",
        "\n",
        "gs_rf.fit(X_train, y_train)\n"
      ],
      "execution_count": null,
      "outputs": []
    },
    {
      "cell_type": "code",
      "metadata": {
        "colab": {
          "base_uri": "https://localhost:8080/"
        },
        "id": "REpO7NP0z365",
        "outputId": "f1efe1b2-abfb-4157-de36-00aa50a2e47b"
      },
      "source": [
        "print('sklearn Training Accuracy:', gs_rf.score(X_train, y_train))\n",
        "print('sklearn Validation Accuracy:', gs_rf.score(X_test, y_test))"
      ],
      "execution_count": 110,
      "outputs": [
        {
          "output_type": "stream",
          "text": [
            "sklearn Training Accuracy: 0.9792207986143918\n",
            "sklearn Validation Accuracy: 0.8895538128886874\n"
          ],
          "name": "stdout"
        }
      ]
    }
  ]
}